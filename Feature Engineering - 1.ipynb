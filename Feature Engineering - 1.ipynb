{
 "cells": [
  {
   "cell_type": "markdown",
   "id": "0d35c711-435a-4616-9b88-92dbda363708",
   "metadata": {},
   "source": [
    "Q1. What is the Filter method in feature selection, and how does it work?\n",
    "\n",
    "- The Filter method is a technique for selecting features based on their individual relevance to the target variable. It uses statistical measures     like correlation, mutual information, chi-squared, and variance, as well as domain knowledge, to rank and choose the top-performing features.\n",
    "\n",
    "Q2. How does the Wrapper method differ from the Filter method in feature selection?\n",
    "\n",
    "- The Wrapper method selects features by assessing how much they enhance the performance of a specific machine learning algorithm. It employs methods   like forward selection, backward elimination, or recursive feature elimination, iterating through feature subsets and evaluating them by training     and testing the model.\n",
    "\n",
    "Q3. What are some common techniques used in Embedded feature selection methods?\n",
    "\n",
    "- Embedded methods encompass LASSO (L1 regularization), Ridge (L2 regularization), Decision Trees with feature importances, and Support Vector         Machines with feature weights. These techniques integrate feature selection into the model training process.\n",
    "\n",
    "Q4. What are some drawbacks of using the Filter method for feature selection?\n",
    "\n",
    "- Limitations of the Filter method include neglecting feature interactions, the potential selection of irrelevant but correlated features, and its     lack of consideration for the specific machine learning model employed.\n",
    "\n",
    "Q5. In which situations would you prefer using the Filter method over the Wrapper method for feature selection?\n",
    "\n",
    "- Prefer the Filter method when dealing with numerous features and the need for swift identification of the most relevant ones without the             computational overhead of model training. It's also beneficial for gaining insights into individual feature-to-target relationships."
   ]
  },
  {
   "cell_type": "code",
   "execution_count": null,
   "id": "d870c0c8-17ee-4d40-b1c7-528503844f87",
   "metadata": {},
   "outputs": [],
   "source": []
  }
 ],
 "metadata": {
  "kernelspec": {
   "display_name": "Python 3 (ipykernel)",
   "language": "python",
   "name": "python3"
  },
  "language_info": {
   "codemirror_mode": {
    "name": "ipython",
    "version": 3
   },
   "file_extension": ".py",
   "mimetype": "text/x-python",
   "name": "python",
   "nbconvert_exporter": "python",
   "pygments_lexer": "ipython3",
   "version": "3.10.9"
  }
 },
 "nbformat": 4,
 "nbformat_minor": 5
}
