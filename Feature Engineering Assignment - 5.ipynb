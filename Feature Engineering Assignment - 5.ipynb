{
 "cells": [
  {
   "cell_type": "markdown",
   "id": "88937ce5-d45e-450a-b6a6-3befc6ddd0e1",
   "metadata": {},
   "source": [
    "Q1. Pearson Correlation Coefficient\n",
    "\n",
    "Let's assume the data for the amount of time students spend studying (in hours) and their corresponding exam scores are as follows:"
   ]
  },
  {
   "cell_type": "markdown",
   "id": "0ca10c0c-3304-43b8-85a9-6a9aac7c3b37",
   "metadata": {},
   "source": [
    "Study Time (hours)\tExam Score\n",
    "10\t                85\n",
    "5\t                65\n",
    "8\t                75\n",
    "3\t                50\n",
    "7\t                70"
   ]
  },
  {
   "cell_type": "code",
   "execution_count": 1,
   "id": "585171b3-716a-4f93-8735-93a037fa1cf1",
   "metadata": {
    "tags": []
   },
   "outputs": [
    {
     "name": "stdout",
     "output_type": "stream",
     "text": [
      "Pearson Correlation Coefficient: 0.99\n"
     ]
    }
   ],
   "source": [
    "import numpy as np\n",
    "from scipy.stats import pearsonr\n",
    "\n",
    "study_time = [10, 5, 8, 3, 7]\n",
    "exam_score = [85, 65, 75, 50, 70]\n",
    "\n",
    "# Calculate Pearson correlation coefficient\n",
    "pearson_corr, _ = pearsonr(study_time, exam_score)\n",
    "\n",
    "print(f\"Pearson Correlation Coefficient: {pearson_corr:.2f}\")"
   ]
  },
  {
   "cell_type": "markdown",
   "id": "4719b5a6-4b31-4456-89d1-0807f2c838bc",
   "metadata": {},
   "source": [
    "Interpretation: A positive Pearson correlation coefficient (closer to +1) indicates a positive linear relationship between study time and exam scores. In other words, students who spend more time studying tend to achieve higher exam scores."
   ]
  },
  {
   "cell_type": "markdown",
   "id": "b1fa793d-1852-44e5-9e84-d4bfcdc23bb7",
   "metadata": {},
   "source": [
    "Q2. Spearman's Rank Correlation\n",
    "\n",
    "Assuming the data for the amount of sleep individuals get and their job satisfaction levels are as follows:"
   ]
  },
  {
   "cell_type": "code",
   "execution_count": null,
   "id": "4e31c781-3303-465a-b5a4-faff2c69b739",
   "metadata": {},
   "outputs": [],
   "source": [
    "Sleep (hours)\tJob Satisfaction\n",
    "7\t            8\n",
    "6\t            6\n",
    "8\t            9\n",
    "5\t            3\n",
    "6\t            5"
   ]
  },
  {
   "cell_type": "code",
   "execution_count": 2,
   "id": "d31ed33b-1f0f-4085-adf7-264d6e75ffec",
   "metadata": {
    "tags": []
   },
   "outputs": [
    {
     "name": "stdout",
     "output_type": "stream",
     "text": [
      "Spearman's Rank Correlation: 0.97\n"
     ]
    }
   ],
   "source": [
    "from scipy.stats import spearmanr\n",
    "\n",
    "sleep_hours = [7, 6, 8, 5, 6]\n",
    "job_satisfaction = [8, 6, 9, 3, 5]\n",
    "\n",
    "# Calculate Spearman's rank correlation\n",
    "spearman_corr, _ = spearmanr(sleep_hours, job_satisfaction)\n",
    "\n",
    "print(f\"Spearman's Rank Correlation: {spearman_corr:.2f}\")"
   ]
  },
  {
   "cell_type": "markdown",
   "id": "43c01156-f62c-46c2-84a1-8f8ef9c6033d",
   "metadata": {},
   "source": [
    "Interpretation: A positive Spearman's rank correlation (closer to +1) indicates a monotonic positive relationship between sleep hours and job satisfaction. In other words, individuals who get more sleep tend to have higher job satisfaction levels.\n",
    "\n",
    "Q3. Pearson and Spearman Correlation for Exercise and BMI\n",
    "\n",
    "Let's assume the data for the number of hours of exercise per week and BMI for 50 participants are available:"
   ]
  },
  {
   "cell_type": "code",
   "execution_count": 3,
   "id": "e2af36c2-ed99-4133-b14d-f7693f9cf031",
   "metadata": {
    "tags": []
   },
   "outputs": [
    {
     "name": "stdout",
     "output_type": "stream",
     "text": [
      "Pearson Correlation Coefficient: -0.40\n",
      "Spearman's Rank Correlation: -0.50\n"
     ]
    }
   ],
   "source": [
    "import numpy as np\n",
    "from scipy.stats import pearsonr, spearmanr\n",
    "\n",
    "exercise_hours = [3, 4, 5, 2, 6]  \n",
    "bmi = [25.2, 22.5, 28.1, 30.0, 24.8] \n",
    "\n",
    "# Calculate Pearson correlation coefficient\n",
    "pearson_corr_exercise_bmi, _ = pearsonr(exercise_hours, bmi)\n",
    "\n",
    "# Calculate Spearman's rank correlation\n",
    "spearman_corr_exercise_bmi, _ = spearmanr(exercise_hours, bmi)\n",
    "\n",
    "print(f\"Pearson Correlation Coefficient: {pearson_corr_exercise_bmi:.2f}\")\n",
    "print(f\"Spearman's Rank Correlation: {spearman_corr_exercise_bmi:.2f}\")"
   ]
  },
  {
   "cell_type": "markdown",
   "id": "e1c3584c-ec51-4a1b-90c2-6305f3720de5",
   "metadata": {},
   "source": [
    "Comparison:\n",
    "\n",
    "- Pearson correlation measures linear relationships, so a positive Pearson correlation would suggest that as exercise hours increase, BMI tends to decrease (inverse relationship).\n",
    "- Spearman's rank correlation assesses monotonic relationships. If participants with higher exercise hours tend to have lower BMIs (or vice versa), Spearman's rank correlation would be positive."
   ]
  },
  {
   "cell_type": "markdown",
   "id": "2f33cc16-c244-4af6-8247-2ce05531affe",
   "metadata": {},
   "source": [
    "Q4. Pearson Correlation Coefficient for TV Watching and Physical Activity\n",
    "\n",
    "Let's assume the data for the number of hours of television watching per day and the level of physical activity (scaled) for 50 participants are available:"
   ]
  },
  {
   "cell_type": "code",
   "execution_count": 4,
   "id": "1f7db402-249e-4740-ac0c-be555bde7a1c",
   "metadata": {
    "tags": []
   },
   "outputs": [
    {
     "name": "stdout",
     "output_type": "stream",
     "text": [
      "Pearson Correlation Coefficient: -0.99\n"
     ]
    }
   ],
   "source": [
    "tv_hours = [2, 3, 4, 5, 2]  \n",
    "physical_activity = [7, 6, 5, 3, 7]  \n",
    "\n",
    "# Calculate Pearson correlation coefficient\n",
    "pearson_corr_tv_physical, _ = pearsonr(tv_hours, physical_activity)\n",
    "\n",
    "print(f\"Pearson Correlation Coefficient: {pearson_corr_tv_physical:.2f}\")"
   ]
  },
  {
   "cell_type": "markdown",
   "id": "66fefa72-c1d7-460c-ac86-aea439f23f9d",
   "metadata": {},
   "source": [
    "Interpretation: The Pearson correlation coefficient will help you understand the linear relationship between the number of hours individuals spend watching television and their level of physical activity. A negative Pearson correlation would suggest that as TV watching hours increase, physical activity tends to decrease, indicating a potential inverse relationship."
   ]
  },
  {
   "cell_type": "markdown",
   "id": "a04b0d0c-cd08-47bd-abef-bd270fb0f9b8",
   "metadata": {},
   "source": [
    "Q5. Relationship Between Age and Soft Drink Preference\n",
    "\n",
    "Since one variable is categorical (soft drink preference) and the other is ordinal (age), calculating the Pearson correlation coefficient is not appropriate. Instead, you can calculate a point-biserial correlation coefficient or use other methods to analyze the relationship between these variables.\n",
    "\n",
    "For point-biserial correlation, you need to convert the categorical variable (soft drink preference) into a binary variable (e.g., 1 for Coke, 0 for other) and then calculate the correlation with age.\n",
    "\n",
    "Assuming you have the following data:"
   ]
  },
  {
   "cell_type": "code",
   "execution_count": 5,
   "id": "1a2c61d4-9f28-4698-b895-ec2b0385f623",
   "metadata": {
    "tags": []
   },
   "outputs": [
    {
     "name": "stdout",
     "output_type": "stream",
     "text": [
      "Point-Biserial Correlation Coefficient: -0.31\n",
      "P-value: 0.5520\n"
     ]
    }
   ],
   "source": [
    "import numpy as np\n",
    "from scipy.stats import pointbiserialr\n",
    "\n",
    "# Sample data for age and soft drink preference\n",
    "age = [25, 42, 37, 19, 31, 28]\n",
    "soft_drink_preference = [1, 0, 0, 0, 1, 1]  # 1 for Coke, 0 for other\n",
    "\n",
    "# Calculate point-biserial correlation coefficient\n",
    "correlation_coefficient, p_value = pointbiserialr(soft_drink_preference, age)\n",
    "\n",
    "print(f\"Point-Biserial Correlation Coefficient: {correlation_coefficient:.2f}\")\n",
    "print(f\"P-value: {p_value:.4f}\")"
   ]
  },
  {
   "cell_type": "code",
   "execution_count": null,
   "id": "da3cad5b-3d38-4f8c-a3dd-50e18410fec0",
   "metadata": {},
   "outputs": [],
   "source": [
    "Interpretation: The point-biserial correlation coefficient will provide a value between -1 and 1. A positive value suggests a positive relationship between choosing Coke and age, while a negative value suggests an inverse relationship. The p-value indicates the significance of the correlation."
   ]
  }
 ],
 "metadata": {
  "kernelspec": {
   "display_name": "Python 3 (ipykernel)",
   "language": "python",
   "name": "python3"
  },
  "language_info": {
   "codemirror_mode": {
    "name": "ipython",
    "version": 3
   },
   "file_extension": ".py",
   "mimetype": "text/x-python",
   "name": "python",
   "nbconvert_exporter": "python",
   "pygments_lexer": "ipython3",
   "version": "3.10.9"
  }
 },
 "nbformat": 4,
 "nbformat_minor": 5
}
